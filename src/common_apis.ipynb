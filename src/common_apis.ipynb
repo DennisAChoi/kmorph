{
 "cells": [
  {
   "cell_type": "code",
   "execution_count": 45,
   "metadata": {
    "collapsed": true
   },
   "outputs": [],
   "source": [
    "# -*- coding: utf-8 -*-\n",
    "# Copyright (C) 2018.02.09 kyung seok jeong <humanist96@koscom.co.kr>\n",
    "\n",
    "from natto import MeCab\n",
    "import pandas as pd\n",
    "import collections\n",
    "import re"
   ]
  },
  {
   "cell_type": "code",
   "execution_count": 46,
   "metadata": {},
   "outputs": [
    {
     "name": "stdout",
     "output_type": "stream",
     "text": [
      "<natto.mecab.MeCab model=<cdata 'mecab_model_t *' 0x3ae2410>, tagger=<cdata 'mecab_t *' 0x3c9a110>, lattice=<cdata 'mecab_lattice_t *' 0x3cc1960>, libpath=\"/usr/local/lib/libmecab.so\", options={'nbest': 1, 'node_format': '%m,%f[0],%f[1],%f[2],%f[3],%f[4],%f[5],%f[6],%f[7]\\\\n'}, dicts=[<natto.dictionary.DictionaryInfo dictionary=<cdata 'mecab_dictionary_info_t *' 0x3c90550>, filepath=\"/usr/local/lib/mecab/dic/mecab-ko-dic/sys.dic\", charset=UTF-8, type=0>], version=0.996/ko-0.9.2>\n",
      "  surface    tag meaning_class final_consonant reading      type first_tag  \\\n",
      "0    대한민국    NNP            지명               T    대한민국  Compound             \n",
      "1     형태소    NNG                             F     형태소  Compound             \n",
      "2     분석기    NNG                             F     분석기  Compound             \n",
      "3       는     JX                             T       는                       \n",
      "4      한글    NNG                             T      한글                       \n",
      "5       이     MM           ~명사               F       이                       \n",
      "6       잘    MAG                             T       잘                       \n",
      "7      쪼개  VV+EC                             F      쪼개   Inflect        VV   \n",
      "8      질까  VX+EF                             F      질까   Inflect        VX   \n",
      "9       ?     SF                                                             \n",
      "\n",
      "  final_tag         expression  \n",
      "0            대한/NNG/*+민국/NNG/*  \n",
      "1             형태/NNG/*+소/NNG/*  \n",
      "2             분석/NNG/*+기/NNG/*  \n",
      "3                               \n",
      "4                               \n",
      "5                               \n",
      "6                               \n",
      "7        EC     쪼개/VV/*+어/EC/*  \n",
      "8        EF     지/VX/*+ᆯ까/EF/*  \n",
      "9                               \n",
      "Help on function run_ma in module __main__:\n",
      "\n",
      "run_ma(text, nBest=1)\n",
      "    Return the dataframe of all Information of morpheme analyzer.\n",
      "    - input : string, {nbest number}\n",
      "    - output : dataframe\n",
      "\n"
     ]
    }
   ],
   "source": [
    "def run_ma(text, nBest=1):\n",
    "    \"\"\"\n",
    "    Return the dataframe of all Information of morpheme analyzer.\n",
    "    - input : string, {nbest number}\n",
    "    - output : dataframe\n",
    "    \"\"\"\n",
    "    options=r'-F%m,%f[0],%f[1],%f[2],%f[3],%f[4],%f[5],%f[6],%f[7]\\n'\n",
    "    options+=\" -N\"+str(nBest)\n",
    "    \n",
    "    _me=MeCab(options)\n",
    "    \n",
    "    _df = pd.DataFrame(None, columns=['surface', 'tag', 'meaning_class', 'final_consonant', \n",
    "                                     'reading', 'type', 'first_tag', 'final_tag','expression'])\n",
    "\n",
    "    i=0\n",
    "    for term_str in str(_me.parse(text)).split('\\n'):\n",
    "        term_list = re.split(',', term_str)\n",
    "        if len(term_list) < 2:\n",
    "            continue\n",
    "        _df.loc[i]=term_list   \n",
    "        i+=1\n",
    "    return _me, _df\n",
    "\n",
    "me, df=run_ma(\"대한민국 형태소분석기는 한글 이 잘 쪼개질까?\")\n",
    "print(me)\n",
    "print(df)\n",
    "help(run_ma)"
   ]
  },
  {
   "cell_type": "code",
   "execution_count": 47,
   "metadata": {},
   "outputs": [
    {
     "name": "stdout",
     "output_type": "stream",
     "text": [
      "  surface    tag meaning_class final_consonant reading      type first_tag  \\\n",
      "0    대한민국    NNP            지명               T    대한민국  Compound             \n",
      "1     형태소    NNG                             F     형태소  Compound             \n",
      "2     분석기    NNG                             F     분석기  Compound             \n",
      "3       는     JX                             T       는                       \n",
      "4      한글    NNG                             T      한글                       \n",
      "5       이     MM           ~명사               F       이                       \n",
      "6       잘    MAG                             T       잘                       \n",
      "7      쪼개  VV+EC                             F      쪼개   Inflect        VV   \n",
      "8      질까  VX+EF                             F      질까   Inflect        VX   \n",
      "9       ?     SF                                                             \n",
      "\n",
      "  final_tag         expression  \n",
      "0            대한/NNG/*+민국/NNG/*  \n",
      "1             형태/NNG/*+소/NNG/*  \n",
      "2             분석/NNG/*+기/NNG/*  \n",
      "3                               \n",
      "4                               \n",
      "5                               \n",
      "6                               \n",
      "7        EC     쪼개/VV/*+어/EC/*  \n",
      "8        EF     지/VX/*+ᆯ까/EF/*  \n",
      "9                               \n"
     ]
    },
    {
     "data": {
      "text/plain": [
       "'대한/NNG 민국/NNG 형태/NNG 소/NNG 분석/NNG 기/NNG 는/JX 한글/NNG 이/MM 잘/MAG 쪼개/VV 어/EC 지/VX ᆯ까/EF ?/SF\\n'"
      ]
     },
     "execution_count": 47,
     "metadata": {},
     "output_type": "execute_result"
    }
   ],
   "source": [
    "print(df)\n",
    "\n",
    "def get_all_morph(df):\n",
    "    \"\"\"\n",
    "    Returns all morphemes and Part-of-Speech.\n",
    "    - input : dataframe\n",
    "    - output : string\n",
    "    \"\"\"\n",
    "    ret=''\n",
    "    for index, row in df.iterrows():      \n",
    "        if row['type'] == 'Inflect' or row['type'] == 'Compound':\n",
    "            tag=row['expression']\n",
    "            ret+=tag.replace('+',' ').replace(\"/*\", '')+\" \"\n",
    "        else:\n",
    "            tag=row['tag']\n",
    "            ret+=row['surface']+\"/\"+tag+\" \"        \n",
    "    ret=ret.rstrip()\n",
    "    ret=ret+\"\\n\"\n",
    "    \n",
    "    return(ret)\n",
    "\n",
    "get_all_morph(df)\n"
   ]
  },
  {
   "cell_type": "code",
   "execution_count": 48,
   "metadata": {
    "scrolled": true
   },
   "outputs": [
    {
     "name": "stdout",
     "output_type": "stream",
     "text": [
      "  surface    tag meaning_class final_consonant reading      type first_tag  \\\n",
      "0    대한민국    NNP            지명               T    대한민국  Compound             \n",
      "1     형태소    NNG                             F     형태소  Compound             \n",
      "2     분석기    NNG                             F     분석기  Compound             \n",
      "3       는     JX                             T       는                       \n",
      "4      한글    NNG                             T      한글                       \n",
      "5       이     MM           ~명사               F       이                       \n",
      "6       잘    MAG                             T       잘                       \n",
      "7      쪼개  VV+EC                             F      쪼개   Inflect        VV   \n",
      "8      질까  VX+EF                             F      질까   Inflect        VX   \n",
      "9       ?     SF                                                             \n",
      "\n",
      "  final_tag         expression  \n",
      "0            대한/NNG/*+민국/NNG/*  \n",
      "1             형태/NNG/*+소/NNG/*  \n",
      "2             분석/NNG/*+기/NNG/*  \n",
      "3                               \n",
      "4                               \n",
      "5                               \n",
      "6                               \n",
      "7        EC     쪼개/VV/*+어/EC/*  \n",
      "8        EF     지/VX/*+ᆯ까/EF/*  \n",
      "9                               \n"
     ]
    },
    {
     "data": {
      "text/plain": [
       "'대한민국/NNP 형태소/NNG 분석기/NNG 한글/NNG\\n'"
      ]
     },
     "execution_count": 48,
     "metadata": {},
     "output_type": "execute_result"
    }
   ],
   "source": [
    "print(df)\n",
    "\n",
    "def get_noun_morph(df, option='N'):\n",
    "    \"\"\"\n",
    "    Returns noun morphemes and Part-of-Speech.\n",
    "    - input : dataframe, {option : compound noun decomposition flag, default : N}\n",
    "    - output : string\n",
    "    \"\"\"\n",
    "    _noun_type = ['NNG', 'NNP']\n",
    "    ret=''\n",
    "    \n",
    "    for index, row in df.iterrows():\n",
    "        if row['tag'] in _noun_type:\n",
    "            if row['type'] == 'Compound' and option != 'N':\n",
    "                tag=row['expression']\n",
    "                ret+=tag.replace('+',' ').replace(\"/*\", '')+\" \"\n",
    "            else:\n",
    "                ret+=row['surface']+\"/\"+row['tag']+\" \" \n",
    "    ret=ret.rstrip()\n",
    "    ret=ret+\"\\n\"\n",
    "    \n",
    "    return(ret)\n",
    "\n",
    "get_noun_morph(df)"
   ]
  },
  {
   "cell_type": "code",
   "execution_count": 50,
   "metadata": {},
   "outputs": [
    {
     "data": {
      "text/plain": [
       "[('분석기', 1), ('형태소', 1), ('한글', 1), ('대한민국', 1)]"
      ]
     },
     "execution_count": 50,
     "metadata": {},
     "output_type": "execute_result"
    }
   ],
   "source": [
    "def get_noun_term_freq(df, option='N'):\n",
    "    \"\"\"\n",
    "    Returns noun morphemes and freqeuncy\n",
    "    - input : dataframe, {option : compound noun decomposition flag, default : N}\n",
    "    - output : list of tuples(morpheme, frequency)\n",
    "    \"\"\"\n",
    "    _noun_type = ['NNG', 'NNP']\n",
    "    _terms = []\n",
    "    \n",
    "    for index, row in df.iterrows():\n",
    "        if row['tag'] in _noun_type:\n",
    "            if row['type'] == 'Compound' and option != 'N':\n",
    "                tag=row['expression']\n",
    "                _terms.extend(re.split(' ', tag.replace('+',' ').replace(\"/*\", '')))\n",
    "            else:\n",
    "                _terms.append(row['surface'])\n",
    "                \n",
    "    return sorted(collections.Counter(_terms).items(), key=lambda x: x[1], reverse=True)\n",
    "\n",
    "get_noun_term_freq(df)"
   ]
  },
  {
   "cell_type": "code",
   "execution_count": null,
   "metadata": {
    "collapsed": true
   },
   "outputs": [],
   "source": []
  }
 ],
 "metadata": {
  "kernelspec": {
   "display_name": "Python 3",
   "language": "python",
   "name": "python3"
  },
  "language_info": {
   "codemirror_mode": {
    "name": "ipython",
    "version": 3
   },
   "file_extension": ".py",
   "mimetype": "text/x-python",
   "name": "python",
   "nbconvert_exporter": "python",
   "pygments_lexer": "ipython3",
   "version": "3.4.3"
  }
 },
 "nbformat": 4,
 "nbformat_minor": 1
}
